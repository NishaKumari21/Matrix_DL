{
 "cells": [
  {
   "cell_type": "code",
   "execution_count": 1,
   "id": "7be464c3-9d13-4b15-9313-6c9e5269fe87",
   "metadata": {},
   "outputs": [],
   "source": [
    "import numpy as np"
   ]
  },
  {
   "cell_type": "code",
   "execution_count": 11,
   "id": "b07adefe-b869-4978-b888-a51ddc6f6a39",
   "metadata": {},
   "outputs": [],
   "source": [
    "a=np.array([[1,2,3],[3,4,5]])\n",
    "b=np.array([[2,3,4],[7,8,9]])"
   ]
  },
  {
   "cell_type": "code",
   "execution_count": 13,
   "id": "9cd3cefa-e709-45ad-9487-a789afe16c17",
   "metadata": {},
   "outputs": [
    {
     "data": {
      "text/plain": [
       "array([[1, 2, 3],\n",
       "       [3, 4, 5]])"
      ]
     },
     "execution_count": 13,
     "metadata": {},
     "output_type": "execute_result"
    }
   ],
   "source": [
    "a"
   ]
  },
  {
   "cell_type": "code",
   "execution_count": 16,
   "id": "84fe7cc7-7546-496b-a810-9412e5c3e9ad",
   "metadata": {},
   "outputs": [
    {
     "data": {
      "text/plain": [
       "array([[2, 3, 4],\n",
       "       [7, 8, 9]])"
      ]
     },
     "execution_count": 16,
     "metadata": {},
     "output_type": "execute_result"
    }
   ],
   "source": [
    "b"
   ]
  },
  {
   "cell_type": "markdown",
   "id": "8e891223-2ad4-4f51-9ad8-5f36944a5eda",
   "metadata": {},
   "source": [
    "# Addition:-"
   ]
  },
  {
   "cell_type": "code",
   "execution_count": 19,
   "id": "caa21a7d-4a34-41bd-9b81-21ea2c5b07e5",
   "metadata": {},
   "outputs": [
    {
     "data": {
      "text/plain": [
       "array([[ 3,  5,  7],\n",
       "       [10, 12, 14]])"
      ]
     },
     "execution_count": 19,
     "metadata": {},
     "output_type": "execute_result"
    }
   ],
   "source": [
    "total=a+b\n",
    "total"
   ]
  },
  {
   "cell_type": "markdown",
   "id": "4cf6e869-bceb-4211-9a4a-3913e79762a9",
   "metadata": {},
   "source": [
    "# SUbtraction:-"
   ]
  },
  {
   "cell_type": "code",
   "execution_count": 22,
   "id": "f58d0a72-453f-4cde-8eb0-687a6700fb60",
   "metadata": {},
   "outputs": [
    {
     "data": {
      "text/plain": [
       "array([[-1, -1, -1],\n",
       "       [-4, -4, -4]])"
      ]
     },
     "execution_count": 22,
     "metadata": {},
     "output_type": "execute_result"
    }
   ],
   "source": [
    "sub=a-b\n",
    "sub"
   ]
  },
  {
   "cell_type": "markdown",
   "id": "fc60381b-8ac0-45a4-a8b6-c0c34bbf443a",
   "metadata": {},
   "source": [
    "# Multiplication (.dot)"
   ]
  },
  {
   "cell_type": "code",
   "execution_count": 49,
   "id": "cce5435f-840d-43b2-9df4-852cf42adff0",
   "metadata": {},
   "outputs": [
    {
     "data": {
      "text/plain": [
       "array([5400, 6400])"
      ]
     },
     "execution_count": 49,
     "metadata": {},
     "output_type": "execute_result"
    }
   ],
   "source": [
    "profit=np.array([1000,400,200])\n",
    "num=np.array([[2,3],[5,6],[7,5]])\n",
    "mul=np.dot(profit,num)\n",
    "mul"
   ]
  },
  {
   "cell_type": "code",
   "execution_count": null,
   "id": "afa7adb4-e349-46ae-ab54-67536427a61d",
   "metadata": {},
   "outputs": [],
   "source": []
  },
  {
   "cell_type": "code",
   "execution_count": 52,
   "id": "f22846d9-70a8-42d7-b3c7-6d3c909012d2",
   "metadata": {},
   "outputs": [
    {
     "data": {
      "text/plain": [
       "array([5400, 6400])"
      ]
     },
     "execution_count": 52,
     "metadata": {},
     "output_type": "execute_result"
    }
   ],
   "source": [
    "mul"
   ]
  },
  {
   "cell_type": "markdown",
   "id": "3dcb56b1-6afb-47fe-aec1-833d4eb65cbd",
   "metadata": {},
   "source": [
    "# Inverse"
   ]
  },
  {
   "cell_type": "code",
   "execution_count": 65,
   "id": "d87219f7-65b7-4b6e-9087-67203ecc1a4e",
   "metadata": {},
   "outputs": [
    {
     "data": {
      "text/plain": [
       "array([[-2. ,  1. ],\n",
       "       [ 1.5, -0.5]])"
      ]
     },
     "execution_count": 65,
     "metadata": {},
     "output_type": "execute_result"
    }
   ],
   "source": [
    "a= np.array([[1, 2], [3, 4]])\n",
    "\n",
    "# Inverse of A\n",
    "a_in = np.linalg.inv(a)\n",
    "a_in"
   ]
  },
  {
   "cell_type": "markdown",
   "id": "b5793d1f-06b7-4181-80ec-21bc7563b274",
   "metadata": {},
   "source": [
    "# TRanspose"
   ]
  },
  {
   "cell_type": "code",
   "execution_count": 68,
   "id": "36dc98b6-2b7b-4a9d-a158-a836aea8130f",
   "metadata": {},
   "outputs": [
    {
     "data": {
      "text/plain": [
       "array([[3, 4, 5],\n",
       "       [6, 7, 8],\n",
       "       [6, 7, 8]])"
      ]
     },
     "execution_count": 68,
     "metadata": {},
     "output_type": "execute_result"
    }
   ],
   "source": [
    "f=np.array([[3,4,5],[6,7,8],[6,7,8]])\n",
    "f"
   ]
  },
  {
   "cell_type": "code",
   "execution_count": 72,
   "id": "0450fe27-69d7-4327-a5bb-504eac486896",
   "metadata": {},
   "outputs": [
    {
     "data": {
      "text/plain": [
       "array([[3, 6, 6],\n",
       "       [4, 7, 7],\n",
       "       [5, 8, 8]])"
      ]
     },
     "execution_count": 72,
     "metadata": {},
     "output_type": "execute_result"
    }
   ],
   "source": [
    "t=f.transpose()\n",
    "t"
   ]
  },
  {
   "cell_type": "code",
   "execution_count": null,
   "id": "0cf1fc09-7404-401d-9c12-94afe4c5a6db",
   "metadata": {},
   "outputs": [],
   "source": []
  },
  {
   "cell_type": "code",
   "execution_count": null,
   "id": "7913b4a0-8ea4-434c-91bc-6189ebbf3037",
   "metadata": {},
   "outputs": [],
   "source": []
  }
 ],
 "metadata": {
  "kernelspec": {
   "display_name": "Python 3 (ipykernel)",
   "language": "python",
   "name": "python3"
  },
  "language_info": {
   "codemirror_mode": {
    "name": "ipython",
    "version": 3
   },
   "file_extension": ".py",
   "mimetype": "text/x-python",
   "name": "python",
   "nbconvert_exporter": "python",
   "pygments_lexer": "ipython3",
   "version": "3.12.7"
  },
  "widgets": {
   "application/vnd.jupyter.widget-state+json": {
    "state": {},
    "version_major": 2,
    "version_minor": 0
   }
  }
 },
 "nbformat": 4,
 "nbformat_minor": 5
}
